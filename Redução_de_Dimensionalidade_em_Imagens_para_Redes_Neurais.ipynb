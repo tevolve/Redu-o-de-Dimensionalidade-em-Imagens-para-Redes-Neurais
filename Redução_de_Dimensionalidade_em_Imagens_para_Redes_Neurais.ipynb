{
  "nbformat": 4,
  "nbformat_minor": 0,
  "metadata": {
    "colab": {
      "provenance": [],
      "authorship_tag": "ABX9TyN2h00ahyOWing1ou1ze/4E",
      "include_colab_link": true
    },
    "kernelspec": {
      "name": "python3",
      "display_name": "Python 3"
    },
    "language_info": {
      "name": "python"
    }
  },
  "cells": [
    {
      "cell_type": "markdown",
      "metadata": {
        "id": "view-in-github",
        "colab_type": "text"
      },
      "source": [
        "<a href=\"https://colab.research.google.com/github/tevolve/Redu-o-de-Dimensionalidade-em-Imagens-para-Redes-Neurais/blob/main/Redu%C3%A7%C3%A3o_de_Dimensionalidade_em_Imagens_para_Redes_Neurais.ipynb\" target=\"_parent\"><img src=\"https://colab.research.google.com/assets/colab-badge.svg\" alt=\"Open In Colab\"/></a>"
      ]
    },
    {
      "cell_type": "code",
      "source": [
        "caminho_imagem = '/caminho/para/imagem.jpg'  # Coloque o caminho completo aqui"
      ],
      "metadata": {
        "id": "AZM-3K8wCJ-1"
      },
      "execution_count": 27,
      "outputs": []
    },
    {
      "cell_type": "code",
      "source": [
        "from google.colab import files\n",
        "\n",
        "uploaded = files.upload()  # Faça upload da imagem aqui"
      ],
      "metadata": {
        "colab": {
          "base_uri": "https://localhost:8080/",
          "height": 145
        },
        "id": "tskI74jhCLXl",
        "outputId": "3ad223a2-29dc-4773-f635-1245118c25ee"
      },
      "execution_count": 28,
      "outputs": [
        {
          "output_type": "display_data",
          "data": {
            "text/plain": [
              "<IPython.core.display.HTML object>"
            ],
            "text/html": [
              "\n",
              "     <input type=\"file\" id=\"files-2c287cf0-d6e6-4bda-a60b-f0bffc372e4e\" name=\"files[]\" multiple disabled\n",
              "        style=\"border:none\" />\n",
              "     <output id=\"result-2c287cf0-d6e6-4bda-a60b-f0bffc372e4e\">\n",
              "      Upload widget is only available when the cell has been executed in the\n",
              "      current browser session. Please rerun this cell to enable.\n",
              "      </output>\n",
              "      <script>// Copyright 2017 Google LLC\n",
              "//\n",
              "// Licensed under the Apache License, Version 2.0 (the \"License\");\n",
              "// you may not use this file except in compliance with the License.\n",
              "// You may obtain a copy of the License at\n",
              "//\n",
              "//      http://www.apache.org/licenses/LICENSE-2.0\n",
              "//\n",
              "// Unless required by applicable law or agreed to in writing, software\n",
              "// distributed under the License is distributed on an \"AS IS\" BASIS,\n",
              "// WITHOUT WARRANTIES OR CONDITIONS OF ANY KIND, either express or implied.\n",
              "// See the License for the specific language governing permissions and\n",
              "// limitations under the License.\n",
              "\n",
              "/**\n",
              " * @fileoverview Helpers for google.colab Python module.\n",
              " */\n",
              "(function(scope) {\n",
              "function span(text, styleAttributes = {}) {\n",
              "  const element = document.createElement('span');\n",
              "  element.textContent = text;\n",
              "  for (const key of Object.keys(styleAttributes)) {\n",
              "    element.style[key] = styleAttributes[key];\n",
              "  }\n",
              "  return element;\n",
              "}\n",
              "\n",
              "// Max number of bytes which will be uploaded at a time.\n",
              "const MAX_PAYLOAD_SIZE = 100 * 1024;\n",
              "\n",
              "function _uploadFiles(inputId, outputId) {\n",
              "  const steps = uploadFilesStep(inputId, outputId);\n",
              "  const outputElement = document.getElementById(outputId);\n",
              "  // Cache steps on the outputElement to make it available for the next call\n",
              "  // to uploadFilesContinue from Python.\n",
              "  outputElement.steps = steps;\n",
              "\n",
              "  return _uploadFilesContinue(outputId);\n",
              "}\n",
              "\n",
              "// This is roughly an async generator (not supported in the browser yet),\n",
              "// where there are multiple asynchronous steps and the Python side is going\n",
              "// to poll for completion of each step.\n",
              "// This uses a Promise to block the python side on completion of each step,\n",
              "// then passes the result of the previous step as the input to the next step.\n",
              "function _uploadFilesContinue(outputId) {\n",
              "  const outputElement = document.getElementById(outputId);\n",
              "  const steps = outputElement.steps;\n",
              "\n",
              "  const next = steps.next(outputElement.lastPromiseValue);\n",
              "  return Promise.resolve(next.value.promise).then((value) => {\n",
              "    // Cache the last promise value to make it available to the next\n",
              "    // step of the generator.\n",
              "    outputElement.lastPromiseValue = value;\n",
              "    return next.value.response;\n",
              "  });\n",
              "}\n",
              "\n",
              "/**\n",
              " * Generator function which is called between each async step of the upload\n",
              " * process.\n",
              " * @param {string} inputId Element ID of the input file picker element.\n",
              " * @param {string} outputId Element ID of the output display.\n",
              " * @return {!Iterable<!Object>} Iterable of next steps.\n",
              " */\n",
              "function* uploadFilesStep(inputId, outputId) {\n",
              "  const inputElement = document.getElementById(inputId);\n",
              "  inputElement.disabled = false;\n",
              "\n",
              "  const outputElement = document.getElementById(outputId);\n",
              "  outputElement.innerHTML = '';\n",
              "\n",
              "  const pickedPromise = new Promise((resolve) => {\n",
              "    inputElement.addEventListener('change', (e) => {\n",
              "      resolve(e.target.files);\n",
              "    });\n",
              "  });\n",
              "\n",
              "  const cancel = document.createElement('button');\n",
              "  inputElement.parentElement.appendChild(cancel);\n",
              "  cancel.textContent = 'Cancel upload';\n",
              "  const cancelPromise = new Promise((resolve) => {\n",
              "    cancel.onclick = () => {\n",
              "      resolve(null);\n",
              "    };\n",
              "  });\n",
              "\n",
              "  // Wait for the user to pick the files.\n",
              "  const files = yield {\n",
              "    promise: Promise.race([pickedPromise, cancelPromise]),\n",
              "    response: {\n",
              "      action: 'starting',\n",
              "    }\n",
              "  };\n",
              "\n",
              "  cancel.remove();\n",
              "\n",
              "  // Disable the input element since further picks are not allowed.\n",
              "  inputElement.disabled = true;\n",
              "\n",
              "  if (!files) {\n",
              "    return {\n",
              "      response: {\n",
              "        action: 'complete',\n",
              "      }\n",
              "    };\n",
              "  }\n",
              "\n",
              "  for (const file of files) {\n",
              "    const li = document.createElement('li');\n",
              "    li.append(span(file.name, {fontWeight: 'bold'}));\n",
              "    li.append(span(\n",
              "        `(${file.type || 'n/a'}) - ${file.size} bytes, ` +\n",
              "        `last modified: ${\n",
              "            file.lastModifiedDate ? file.lastModifiedDate.toLocaleDateString() :\n",
              "                                    'n/a'} - `));\n",
              "    const percent = span('0% done');\n",
              "    li.appendChild(percent);\n",
              "\n",
              "    outputElement.appendChild(li);\n",
              "\n",
              "    const fileDataPromise = new Promise((resolve) => {\n",
              "      const reader = new FileReader();\n",
              "      reader.onload = (e) => {\n",
              "        resolve(e.target.result);\n",
              "      };\n",
              "      reader.readAsArrayBuffer(file);\n",
              "    });\n",
              "    // Wait for the data to be ready.\n",
              "    let fileData = yield {\n",
              "      promise: fileDataPromise,\n",
              "      response: {\n",
              "        action: 'continue',\n",
              "      }\n",
              "    };\n",
              "\n",
              "    // Use a chunked sending to avoid message size limits. See b/62115660.\n",
              "    let position = 0;\n",
              "    do {\n",
              "      const length = Math.min(fileData.byteLength - position, MAX_PAYLOAD_SIZE);\n",
              "      const chunk = new Uint8Array(fileData, position, length);\n",
              "      position += length;\n",
              "\n",
              "      const base64 = btoa(String.fromCharCode.apply(null, chunk));\n",
              "      yield {\n",
              "        response: {\n",
              "          action: 'append',\n",
              "          file: file.name,\n",
              "          data: base64,\n",
              "        },\n",
              "      };\n",
              "\n",
              "      let percentDone = fileData.byteLength === 0 ?\n",
              "          100 :\n",
              "          Math.round((position / fileData.byteLength) * 100);\n",
              "      percent.textContent = `${percentDone}% done`;\n",
              "\n",
              "    } while (position < fileData.byteLength);\n",
              "  }\n",
              "\n",
              "  // All done.\n",
              "  yield {\n",
              "    response: {\n",
              "      action: 'complete',\n",
              "    }\n",
              "  };\n",
              "}\n",
              "\n",
              "scope.google = scope.google || {};\n",
              "scope.google.colab = scope.google.colab || {};\n",
              "scope.google.colab._files = {\n",
              "  _uploadFiles,\n",
              "  _uploadFilesContinue,\n",
              "};\n",
              "})(self);\n",
              "</script> "
            ]
          },
          "metadata": {}
        },
        {
          "output_type": "stream",
          "name": "stdout",
          "text": [
            "Saving t59_adVmQ1SdyBz5xlPq7Q.jpeg to t59_adVmQ1SdyBz5xlPq7Q (3).jpeg\n"
          ]
        }
      ]
    },
    {
      "cell_type": "code",
      "source": [
        "caminho_imagem = 'nome_da_imagem.jpg'  # Nome exato do arquivo que foi enviado"
      ],
      "metadata": {
        "id": "gYHwKMNlCT_E"
      },
      "execution_count": 29,
      "outputs": []
    },
    {
      "cell_type": "code",
      "source": [
        "\n",
        "from PIL import Image, ImageDraw\n",
        "\n",
        "# Criar uma imagem de teste\n",
        "imagem_teste = Image.new('RGB', (4, 4), 'white')\n",
        "draw = ImageDraw.Draw(imagem_teste)\n",
        "draw.rectangle([0, 0, 1, 1], fill='red')    # Pixel vermelho\n",
        "draw.rectangle([2, 0, 3, 1], fill='green')  # Pixel verde\n",
        "draw.rectangle([0, 2, 1, 3], fill='blue')   # Pixel azul\n",
        "draw.rectangle([2, 2, 3, 3], fill='black')  # Pixel preto\n",
        "imagem_teste.save('sua_imagem.jpg')\n",
        "print(\"Imagem de teste criada como 'sua_imagem.jpg'.\")"
      ],
      "metadata": {
        "colab": {
          "base_uri": "https://localhost:8080/"
        },
        "id": "gg1P0BAbCQpu",
        "outputId": "d7144b42-54cd-46d1-cf80-2013a4845576"
      },
      "execution_count": 31,
      "outputs": [
        {
          "output_type": "stream",
          "name": "stdout",
          "text": [
            "Imagem de teste criada como 'sua_imagem.jpg'.\n"
          ]
        }
      ]
    },
    {
      "cell_type": "code",
      "source": [
        "import os\n",
        "print(os.getcwd())  # Mostra o diretório atual"
      ],
      "metadata": {
        "colab": {
          "base_uri": "https://localhost:8080/"
        },
        "id": "vUoSg0e4Cmov",
        "outputId": "dfb7a936-b462-43ed-9bce-cb7069709aef"
      },
      "execution_count": 32,
      "outputs": [
        {
          "output_type": "stream",
          "name": "stdout",
          "text": [
            "/content\n"
          ]
        }
      ]
    },
    {
      "cell_type": "code",
      "source": [
        "from PIL import Image\n",
        "\n",
        "# Função para carregar a imagem original e salvar seus valores RGB\n",
        "def carregar_e_converter_para_texto(caminho_imagem, caminho_saida):\n",
        "    imagem = Image.open(caminho_imagem).convert('RGB')\n",
        "    largura, altura = imagem.size\n",
        "    matriz = []\n",
        "    with open(caminho_saida, 'w') as arquivo:\n",
        "        for y in range(altura):\n",
        "            linha = []\n",
        "            for x in range(largura):\n",
        "                r, g, b = imagem.getpixel((x, y))\n",
        "                linha.append([r, g, b])\n",
        "                arquivo.write(f\"{r},{g},{b} \")\n",
        "            arquivo.write('\\n')\n",
        "            matriz.append(linha)\n",
        "    return matriz\n",
        "\n",
        "# Função para converter uma imagem para tons de cinza\n",
        "def converter_para_cinza(imagem):\n",
        "    largura = len(imagem[0])\n",
        "    altura = len(imagem)\n",
        "    imagem_cinza = Image.new('L', (largura, altura))  # Imagem em escala de cinza\n",
        "    for y, linha in enumerate(imagem):\n",
        "        for x, pixel in enumerate(linha):\n",
        "            cinza = sum(pixel) // 3\n",
        "            imagem_cinza.putpixel((x, y), cinza)\n",
        "    return imagem_cinza\n",
        "\n",
        "# Função para converter uma imagem para binária (preto e branco)\n",
        "def binarizar(imagem_cinza, limite=128):\n",
        "    largura, altura = imagem_cinza.size\n",
        "    imagem_binaria = Image.new('1', (largura, altura))  # Imagem binária\n",
        "    for x in range(largura):\n",
        "        for y in range(altura):\n",
        "            pixel = imagem_cinza.getpixel((x, y))\n",
        "            imagem_binaria.putpixel((x, y), 255 if pixel >= limite else 0)\n",
        "    return imagem_binaria\n",
        "\n",
        "# Programa principal\n",
        "if __name__ == '__main__':\n",
        "    # Caminho da imagem original\n",
        "    caminho_imagem = 'sua_imagem.jpg'  # Substitua pelo caminho da sua imagem\n",
        "    arquivo_saida = 'entrada.txt'\n",
        "\n",
        "    try:\n",
        "        # Passo 1: Carregar a imagem original e salvar como texto\n",
        "        imagem_rgb = carregar_e_converter_para_texto(caminho_imagem, arquivo_saida)\n",
        "        print(f\"Imagem convertida para texto no arquivo '{arquivo_saida}'.\")\n",
        "\n",
        "        # Passo 2: Converter para tons de cinza\n",
        "        imagem_cinza = converter_para_cinza(imagem_rgb)\n",
        "        imagem_cinza.save('saida_cinza.png')\n",
        "        print(\"Imagem em tons de cinza salva como 'saida_cinza.png'.\")\n",
        "\n",
        "        # Passo 3: Converter para preto e branco (binarizar)\n",
        "        imagem_binaria = binarizar(imagem_cinza)\n",
        "        imagem_binaria.save('saida_binaria.png')\n",
        "        print(\"Imagem binarizada salva como 'saida_binaria.png'.\")\n",
        "\n",
        "        # Exibir as imagens\n",
        "        imagem_cinza.show(title=\"Imagem em Tons de Cinza\")\n",
        "        imagem_binaria.show(title=\"Imagem Binarizada\")\n",
        "\n",
        "    except FileNotFoundError:\n",
        "        print(f\"Erro: Arquivo '{caminho_imagem}' não encontrado.\")\n",
        "    except Exception as e:\n",
        "        print(f\"Ocorreu um erro: {e}\")"
      ],
      "metadata": {
        "colab": {
          "base_uri": "https://localhost:8080/"
        },
        "id": "XzwazPuPEaWT",
        "outputId": "4f7dd3ec-2b88-4cba-c7d8-922c7865c1ec"
      },
      "execution_count": 34,
      "outputs": [
        {
          "output_type": "stream",
          "name": "stdout",
          "text": [
            "Imagem convertida para texto no arquivo 'entrada.txt'.\n",
            "Imagem em tons de cinza salva como 'saida_cinza.png'.\n",
            "Imagem binarizada salva como 'saida_binaria.png'.\n"
          ]
        }
      ]
    }
  ]
}